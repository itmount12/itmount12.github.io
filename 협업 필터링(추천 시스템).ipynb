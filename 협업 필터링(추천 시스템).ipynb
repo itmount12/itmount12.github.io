{
 "cells": [
  {
   "cell_type": "code",
   "execution_count": 1,
   "id": "acb4d765-fd37-46d1-bc51-6f5ac13da6de",
   "metadata": {},
   "outputs": [],
   "source": [
    "import pandas as pd\n",
    "import numpy as np"
   ]
  },
  {
   "cell_type": "markdown",
   "id": "282e0515-6fa9-492a-8084-172d6d1aa889",
   "metadata": {},
   "source": [
    "## LOAD data"
   ]
  },
  {
   "cell_type": "code",
   "execution_count": 5,
   "id": "336cb06c-ddc3-437b-8119-218ca8ce7fd4",
   "metadata": {},
   "outputs": [
    {
     "data": {
      "text/html": [
       "<div>\n",
       "<style scoped>\n",
       "    .dataframe tbody tr th:only-of-type {\n",
       "        vertical-align: middle;\n",
       "    }\n",
       "\n",
       "    .dataframe tbody tr th {\n",
       "        vertical-align: top;\n",
       "    }\n",
       "\n",
       "    .dataframe thead th {\n",
       "        text-align: right;\n",
       "    }\n",
       "</style>\n",
       "<table border=\"1\" class=\"dataframe\">\n",
       "  <thead>\n",
       "    <tr style=\"text-align: right;\">\n",
       "      <th></th>\n",
       "      <th>사람</th>\n",
       "      <th>책</th>\n",
       "      <th>평점</th>\n",
       "    </tr>\n",
       "  </thead>\n",
       "  <tbody>\n",
       "    <tr>\n",
       "      <th>0</th>\n",
       "      <td>민지</td>\n",
       "      <td>백설공주</td>\n",
       "      <td>5.0</td>\n",
       "    </tr>\n",
       "    <tr>\n",
       "      <th>1</th>\n",
       "      <td>민지</td>\n",
       "      <td>신데렐라</td>\n",
       "      <td>4.0</td>\n",
       "    </tr>\n",
       "    <tr>\n",
       "      <th>2</th>\n",
       "      <td>민지</td>\n",
       "      <td>어린왕자</td>\n",
       "      <td>1.0</td>\n",
       "    </tr>\n",
       "    <tr>\n",
       "      <th>3</th>\n",
       "      <td>민지</td>\n",
       "      <td>흥부전</td>\n",
       "      <td>3.0</td>\n",
       "    </tr>\n",
       "    <tr>\n",
       "      <th>4</th>\n",
       "      <td>현우</td>\n",
       "      <td>노인과바다</td>\n",
       "      <td>3.0</td>\n",
       "    </tr>\n",
       "  </tbody>\n",
       "</table>\n",
       "</div>"
      ],
      "text/plain": [
       "   사람      책   평점\n",
       "0  민지   백설공주  5.0\n",
       "1  민지   신데렐라  4.0\n",
       "2  민지   어린왕자  1.0\n",
       "3  민지    흥부전  3.0\n",
       "4  현우  노인과바다  3.0"
      ]
     },
     "execution_count": 5,
     "metadata": {},
     "output_type": "execute_result"
    }
   ],
   "source": [
    "datas=pd.read_csv('ratings.csv')\n",
    "datas.head()"
   ]
  },
  {
   "cell_type": "markdown",
   "id": "ff98d615-f8a7-4b6e-8ab4-a66dbf302f42",
   "metadata": {},
   "source": [
    "## pivoting method(교차표)"
   ]
  },
  {
   "cell_type": "code",
   "execution_count": 8,
   "id": "f4add3ae-91c1-4744-beb6-a69163dd72e9",
   "metadata": {},
   "outputs": [
    {
     "data": {
      "text/html": [
       "<div>\n",
       "<style scoped>\n",
       "    .dataframe tbody tr th:only-of-type {\n",
       "        vertical-align: middle;\n",
       "    }\n",
       "\n",
       "    .dataframe tbody tr th {\n",
       "        vertical-align: top;\n",
       "    }\n",
       "\n",
       "    .dataframe thead th {\n",
       "        text-align: right;\n",
       "    }\n",
       "</style>\n",
       "<table border=\"1\" class=\"dataframe\">\n",
       "  <thead>\n",
       "    <tr style=\"text-align: right;\">\n",
       "      <th>책</th>\n",
       "      <th>노인과바다</th>\n",
       "      <th>백설공주</th>\n",
       "      <th>신데렐라</th>\n",
       "      <th>어린왕자</th>\n",
       "      <th>콩쥐팥쥐</th>\n",
       "      <th>흥부전</th>\n",
       "    </tr>\n",
       "    <tr>\n",
       "      <th>사람</th>\n",
       "      <th></th>\n",
       "      <th></th>\n",
       "      <th></th>\n",
       "      <th></th>\n",
       "      <th></th>\n",
       "      <th></th>\n",
       "    </tr>\n",
       "  </thead>\n",
       "  <tbody>\n",
       "    <tr>\n",
       "      <th>민수</th>\n",
       "      <td>3.0</td>\n",
       "      <td>4.0</td>\n",
       "      <td>4.0</td>\n",
       "      <td>3.0</td>\n",
       "      <td>4.0</td>\n",
       "      <td>NaN</td>\n",
       "    </tr>\n",
       "    <tr>\n",
       "      <th>민지</th>\n",
       "      <td>NaN</td>\n",
       "      <td>5.0</td>\n",
       "      <td>4.0</td>\n",
       "      <td>1.0</td>\n",
       "      <td>NaN</td>\n",
       "      <td>3.0</td>\n",
       "    </tr>\n",
       "    <tr>\n",
       "      <th>지민</th>\n",
       "      <td>4.0</td>\n",
       "      <td>1.0</td>\n",
       "      <td>NaN</td>\n",
       "      <td>5.0</td>\n",
       "      <td>2.0</td>\n",
       "      <td>3.0</td>\n",
       "    </tr>\n",
       "    <tr>\n",
       "      <th>지연</th>\n",
       "      <td>5.0</td>\n",
       "      <td>NaN</td>\n",
       "      <td>3.0</td>\n",
       "      <td>4.0</td>\n",
       "      <td>3.0</td>\n",
       "      <td>3.0</td>\n",
       "    </tr>\n",
       "    <tr>\n",
       "      <th>현우</th>\n",
       "      <td>3.0</td>\n",
       "      <td>NaN</td>\n",
       "      <td>2.0</td>\n",
       "      <td>NaN</td>\n",
       "      <td>1.0</td>\n",
       "      <td>2.0</td>\n",
       "    </tr>\n",
       "  </tbody>\n",
       "</table>\n",
       "</div>"
      ],
      "text/plain": [
       "책   노인과바다  백설공주  신데렐라  어린왕자  콩쥐팥쥐  흥부전\n",
       "사람                                    \n",
       "민수    3.0   4.0   4.0   3.0   4.0  NaN\n",
       "민지    NaN   5.0   4.0   1.0   NaN  3.0\n",
       "지민    4.0   1.0   NaN   5.0   2.0  3.0\n",
       "지연    5.0   NaN   3.0   4.0   3.0  3.0\n",
       "현우    3.0   NaN   2.0   NaN   1.0  2.0"
      ]
     },
     "execution_count": 8,
     "metadata": {},
     "output_type": "execute_result"
    }
   ],
   "source": [
    "favor=pd.pivot(data=datas, index='사람',columns='책',values='평점')\n",
    "favor"
   ]
  },
  {
   "cell_type": "markdown",
   "id": "ce137b97-59a5-48af-829c-cb5df8d93126",
   "metadata": {},
   "source": [
    "# 추천 시스템의 method = 결측 값에 대해서는 계산을 불허한다.\n",
    "# method 파헤치기"
   ]
  },
  {
   "cell_type": "code",
   "execution_count": 9,
   "id": "84d40bb5-3be2-4d6f-84c2-ce151fb1d05f",
   "metadata": {},
   "outputs": [],
   "source": [
    "#np.isfinite => 한정된 값만을 파악하는 함수"
   ]
  },
  {
   "cell_type": "code",
   "execution_count": 10,
   "id": "1855f1ed-00b4-4795-a10f-53a81a3637f7",
   "metadata": {},
   "outputs": [],
   "source": [
    "def get_pearson_correlation(u,v,epsilon):\n",
    "    mask = ~np.isnan(u) & ~np.isnan(v)\n",
    "    u=u[mask]\n",
    "    u_mean=u.mean()\n",
    "    v=v[mask]\n",
    "    v_mean=v.mean()\n",
    "    uvdot=((u-u_mean)*(v-v_mean)).sum()\n",
    "    norm1=((u-u_mean)**2).sum()\n",
    "    norm2=((v-v_mean)**2).sum()\n",
    "    score=uvdot/(np.sqrt(norm1*norm2)+epsilon)\n",
    "    return score"
   ]
  },
  {
   "cell_type": "code",
   "execution_count": 16,
   "id": "20ee0d09-5a03-4466-95b0-760532048c96",
   "metadata": {},
   "outputs": [],
   "source": [
    "from numpy import dot\n",
    "from numpy.linalg import norm\n",
    "\n",
    "def get_cosine_similarity(u,v):\n",
    "    mask=np.isfinite(u) & np.isfinite(v)\n",
    "    u=u[mask]\n",
    "    v=v[mask]\n",
    "    return dot(u,v)/(norm(u)*norm(v))"
   ]
  },
  {
   "cell_type": "code",
   "execution_count": 12,
   "id": "8ba202c7-efa5-494d-b086-8a58e7b7a735",
   "metadata": {},
   "outputs": [],
   "source": [
    "from itertools import product"
   ]
  },
  {
   "cell_type": "code",
   "execution_count": 15,
   "id": "42bada9a-7254-410d-9756-eac32b970008",
   "metadata": {},
   "outputs": [
    {
     "data": {
      "text/plain": [
       "[('민수', '민수'),\n",
       " ('민수', '민지'),\n",
       " ('민수', '지민'),\n",
       " ('민수', '지연'),\n",
       " ('민수', '현우'),\n",
       " ('민지', '민수'),\n",
       " ('민지', '민지'),\n",
       " ('민지', '지민'),\n",
       " ('민지', '지연'),\n",
       " ('민지', '현우'),\n",
       " ('지민', '민수'),\n",
       " ('지민', '민지'),\n",
       " ('지민', '지민'),\n",
       " ('지민', '지연'),\n",
       " ('지민', '현우'),\n",
       " ('지연', '민수'),\n",
       " ('지연', '민지'),\n",
       " ('지연', '지민'),\n",
       " ('지연', '지연'),\n",
       " ('지연', '현우'),\n",
       " ('현우', '민수'),\n",
       " ('현우', '민지'),\n",
       " ('현우', '지민'),\n",
       " ('현우', '지연'),\n",
       " ('현우', '현우')]"
      ]
     },
     "execution_count": 15,
     "metadata": {},
     "output_type": "execute_result"
    }
   ],
   "source": [
    "favor.index\n",
    "list(product(favor.index,repeat=2))"
   ]
  },
  {
   "cell_type": "code",
   "execution_count": 22,
   "id": "992c5a56-b3c7-4a32-9de2-23296cc62178",
   "metadata": {},
   "outputs": [],
   "source": [
    "def get_cosine_correlation_table(favor, epsilon=0.0001):\n",
    "\n",
    "    person_tuple=list(product(favor.index, repeat=2))\n",
    "    list_similarity=[]\n",
    "    for uname,vname in person_tuple:\n",
    "        u=favor.loc[uname]\n",
    "        v=favor.loc[vname]\n",
    "        score=get_cosine_similarity(u,v)\n",
    "        similarity={\n",
    "        'u':uname,\n",
    "        'v':vname,\n",
    "        'score':score\n",
    "        }\n",
    "        list_similarity.append(similarity)\n",
    "    df_similarity=pd.DataFrame(list_similarity)\n",
    "    table_sim=pd.pivot_table(df_similarity,index='u',columns='v', values='score')\n",
    "\n",
    "    return table_sim"
   ]
  },
  {
   "cell_type": "code",
   "execution_count": 23,
   "id": "96396fbe-eb74-4937-9eb1-7a7a91db34dd",
   "metadata": {},
   "outputs": [],
   "source": [
    "tbl_sim=get_cosine_correlation_table(favor)"
   ]
  },
  {
   "cell_type": "code",
   "execution_count": 24,
   "id": "af1cdca9-810a-419e-8491-1968ea1964df",
   "metadata": {},
   "outputs": [
    {
     "data": {
      "text/html": [
       "<div>\n",
       "<style scoped>\n",
       "    .dataframe tbody tr th:only-of-type {\n",
       "        vertical-align: middle;\n",
       "    }\n",
       "\n",
       "    .dataframe tbody tr th {\n",
       "        vertical-align: top;\n",
       "    }\n",
       "\n",
       "    .dataframe thead th {\n",
       "        text-align: right;\n",
       "    }\n",
       "</style>\n",
       "<table border=\"1\" class=\"dataframe\">\n",
       "  <thead>\n",
       "    <tr style=\"text-align: right;\">\n",
       "      <th>v</th>\n",
       "      <th>민수</th>\n",
       "      <th>민지</th>\n",
       "      <th>지민</th>\n",
       "      <th>지연</th>\n",
       "      <th>현우</th>\n",
       "    </tr>\n",
       "    <tr>\n",
       "      <th>u</th>\n",
       "      <th></th>\n",
       "      <th></th>\n",
       "      <th></th>\n",
       "      <th></th>\n",
       "      <th></th>\n",
       "    </tr>\n",
       "  </thead>\n",
       "  <tbody>\n",
       "    <tr>\n",
       "      <th>민수</th>\n",
       "      <td>1.000000</td>\n",
       "      <td>0.939827</td>\n",
       "      <td>0.813206</td>\n",
       "      <td>0.938986</td>\n",
       "      <td>0.876523</td>\n",
       "    </tr>\n",
       "    <tr>\n",
       "      <th>민지</th>\n",
       "      <td>0.939827</td>\n",
       "      <td>1.000000</td>\n",
       "      <td>0.542857</td>\n",
       "      <td>0.840841</td>\n",
       "      <td>0.989949</td>\n",
       "    </tr>\n",
       "    <tr>\n",
       "      <th>지민</th>\n",
       "      <td>0.813206</td>\n",
       "      <td>0.542857</td>\n",
       "      <td>1.000000</td>\n",
       "      <td>0.974406</td>\n",
       "      <td>0.992583</td>\n",
       "    </tr>\n",
       "    <tr>\n",
       "      <th>지연</th>\n",
       "      <td>0.938986</td>\n",
       "      <td>0.840841</td>\n",
       "      <td>0.974406</td>\n",
       "      <td>1.000000</td>\n",
       "      <td>0.980581</td>\n",
       "    </tr>\n",
       "    <tr>\n",
       "      <th>현우</th>\n",
       "      <td>0.876523</td>\n",
       "      <td>0.989949</td>\n",
       "      <td>0.992583</td>\n",
       "      <td>0.980581</td>\n",
       "      <td>1.000000</td>\n",
       "    </tr>\n",
       "  </tbody>\n",
       "</table>\n",
       "</div>"
      ],
      "text/plain": [
       "v         민수        민지        지민        지연        현우\n",
       "u                                                   \n",
       "민수  1.000000  0.939827  0.813206  0.938986  0.876523\n",
       "민지  0.939827  1.000000  0.542857  0.840841  0.989949\n",
       "지민  0.813206  0.542857  1.000000  0.974406  0.992583\n",
       "지연  0.938986  0.840841  0.974406  1.000000  0.980581\n",
       "현우  0.876523  0.989949  0.992583  0.980581  1.000000"
      ]
     },
     "execution_count": 24,
     "metadata": {},
     "output_type": "execute_result"
    }
   ],
   "source": [
    "tbl_sim"
   ]
  },
  {
   "cell_type": "code",
   "execution_count": 31,
   "id": "ca922b13-37f7-4781-8ee1-b6a7c84d9474",
   "metadata": {},
   "outputs": [],
   "source": [
    "def knn(user_name, item_name, favor, sim,k):\n",
    "    r=favor[item_name].drop(index=user_name)\n",
    "    s=tbl_sim[user_name].drop(index=user_name)\n",
    "\n",
    "    mask=np.isfinite(r) & np.isfinite(s)\n",
    "    r= r[mask]\n",
    "    s=s[mask]\n",
    "\n",
    "    list_nearst=s.sort_values(ascending=False).head(k).index\n",
    "\n",
    "    return list_nearst"
   ]
  },
  {
   "cell_type": "code",
   "execution_count": 33,
   "id": "42e6d75c-5886-4957-afa1-3c14769bf2a5",
   "metadata": {},
   "outputs": [
    {
     "data": {
      "text/plain": [
       "Index(['민수', '지민'], dtype='object', name='u')"
      ]
     },
     "execution_count": 33,
     "metadata": {},
     "output_type": "execute_result"
    }
   ],
   "source": [
    "knn('민지','백설공주',favor,tbl_sim,k=2)"
   ]
  },
  {
   "cell_type": "code",
   "execution_count": 34,
   "id": "f412b4dd-222f-4217-bfbe-d15b985903a5",
   "metadata": {},
   "outputs": [
    {
     "data": {
      "text/html": [
       "<div>\n",
       "<style scoped>\n",
       "    .dataframe tbody tr th:only-of-type {\n",
       "        vertical-align: middle;\n",
       "    }\n",
       "\n",
       "    .dataframe tbody tr th {\n",
       "        vertical-align: top;\n",
       "    }\n",
       "\n",
       "    .dataframe thead th {\n",
       "        text-align: right;\n",
       "    }\n",
       "</style>\n",
       "<table border=\"1\" class=\"dataframe\">\n",
       "  <thead>\n",
       "    <tr style=\"text-align: right;\">\n",
       "      <th>책</th>\n",
       "      <th>노인과바다</th>\n",
       "      <th>백설공주</th>\n",
       "      <th>신데렐라</th>\n",
       "      <th>어린왕자</th>\n",
       "      <th>콩쥐팥쥐</th>\n",
       "      <th>흥부전</th>\n",
       "    </tr>\n",
       "    <tr>\n",
       "      <th>사람</th>\n",
       "      <th></th>\n",
       "      <th></th>\n",
       "      <th></th>\n",
       "      <th></th>\n",
       "      <th></th>\n",
       "      <th></th>\n",
       "    </tr>\n",
       "  </thead>\n",
       "  <tbody>\n",
       "    <tr>\n",
       "      <th>민수</th>\n",
       "      <td>3.0</td>\n",
       "      <td>4.0</td>\n",
       "      <td>4.0</td>\n",
       "      <td>3.0</td>\n",
       "      <td>4.0</td>\n",
       "      <td>NaN</td>\n",
       "    </tr>\n",
       "    <tr>\n",
       "      <th>민지</th>\n",
       "      <td>NaN</td>\n",
       "      <td>5.0</td>\n",
       "      <td>4.0</td>\n",
       "      <td>1.0</td>\n",
       "      <td>NaN</td>\n",
       "      <td>3.0</td>\n",
       "    </tr>\n",
       "    <tr>\n",
       "      <th>지민</th>\n",
       "      <td>4.0</td>\n",
       "      <td>1.0</td>\n",
       "      <td>NaN</td>\n",
       "      <td>5.0</td>\n",
       "      <td>2.0</td>\n",
       "      <td>3.0</td>\n",
       "    </tr>\n",
       "    <tr>\n",
       "      <th>지연</th>\n",
       "      <td>5.0</td>\n",
       "      <td>NaN</td>\n",
       "      <td>3.0</td>\n",
       "      <td>4.0</td>\n",
       "      <td>3.0</td>\n",
       "      <td>3.0</td>\n",
       "    </tr>\n",
       "    <tr>\n",
       "      <th>현우</th>\n",
       "      <td>3.0</td>\n",
       "      <td>NaN</td>\n",
       "      <td>2.0</td>\n",
       "      <td>NaN</td>\n",
       "      <td>1.0</td>\n",
       "      <td>2.0</td>\n",
       "    </tr>\n",
       "  </tbody>\n",
       "</table>\n",
       "</div>"
      ],
      "text/plain": [
       "책   노인과바다  백설공주  신데렐라  어린왕자  콩쥐팥쥐  흥부전\n",
       "사람                                    \n",
       "민수    3.0   4.0   4.0   3.0   4.0  NaN\n",
       "민지    NaN   5.0   4.0   1.0   NaN  3.0\n",
       "지민    4.0   1.0   NaN   5.0   2.0  3.0\n",
       "지연    5.0   NaN   3.0   4.0   3.0  3.0\n",
       "현우    3.0   NaN   2.0   NaN   1.0  2.0"
      ]
     },
     "execution_count": 34,
     "metadata": {},
     "output_type": "execute_result"
    }
   ],
   "source": [
    "favor"
   ]
  },
  {
   "cell_type": "code",
   "execution_count": 36,
   "id": "1c74a03a-c618-45a7-affd-413ac79a48dd",
   "metadata": {},
   "outputs": [],
   "source": [
    "def avg_cor_predict_rating(user_name, item_name, pivoted_df, tbl_sim,k):\n",
    "    nn=knn(user_name, item_name, pivoted_df, tbl_sim,k)\n",
    "    if len(nn) == 0:\n",
    "        return np.nan\n",
    "\n",
    "    ur=favor.loc[user_name].mean()\n",
    "    score1=0\n",
    "    for user in nn:\n",
    "        r=(favor.loc[user] - favor.loc[user].mean())\n",
    "        s=tbl_sim.loc[user][user_name]\n",
    "        srdot= (s*r).sum()\n",
    "        norm=s.sum()\n",
    "        score1=score1+(srdot/norm)\n",
    "\n",
    "    score=ur+score1\n",
    "\n",
    "    return score"
   ]
  },
  {
   "cell_type": "code",
   "execution_count": 41,
   "id": "189634a3-a991-4d25-99b8-08aae4167ed4",
   "metadata": {},
   "outputs": [
    {
     "data": {
      "text/plain": [
       "2.9999999999999996"
      ]
     },
     "execution_count": 41,
     "metadata": {},
     "output_type": "execute_result"
    }
   ],
   "source": [
    "avg_cor_predict_rating('지민', '신데렐라', favor, tbl_sim, k=2)"
   ]
  },
  {
   "cell_type": "code",
   "execution_count": null,
   "id": "9c917dc0-cf80-46f8-8487-8e3ce869f171",
   "metadata": {},
   "outputs": [],
   "source": []
  }
 ],
 "metadata": {
  "kernelspec": {
   "display_name": "Python 3 (ipykernel)",
   "language": "python",
   "name": "python3"
  },
  "language_info": {
   "codemirror_mode": {
    "name": "ipython",
    "version": 3
   },
   "file_extension": ".py",
   "mimetype": "text/x-python",
   "name": "python",
   "nbconvert_exporter": "python",
   "pygments_lexer": "ipython3",
   "version": "3.11.7"
  }
 },
 "nbformat": 4,
 "nbformat_minor": 5
}

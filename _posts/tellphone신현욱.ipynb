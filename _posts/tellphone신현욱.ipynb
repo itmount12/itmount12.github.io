{
 "cells": [
  {
   "cell_type": "markdown",
   "id": "4b64b619",
   "metadata": {},
   "source": [
    "# 전화번호부 클래스"
   ]
  },
  {
   "cell_type": "code",
   "execution_count": 68,
   "id": "f5c0f417",
   "metadata": {},
   "outputs": [],
   "source": [
    "class Phone_book:\n",
    "    def __init__(self):\n",
    "        self.contact=[]\n",
    "        dust_box=[]\n",
    "        favorites=[]\n",
    "    def print_menu(self):\n",
    "        while True:\n",
    "            print(\"=\" * 35)\n",
    "            print(\"연락처 : \", len(self.contact), \"명\")\n",
    "            print(\"=\" * 35)\n",
    "            print(\"1. 연락처 입력\")\n",
    "            print(\"2. 연락처 출력\")\n",
    "            print(\"3. 연락처 수정\")\n",
    "            print(\"4. 연락처 삭제\")\n",
    "            print(\"5. 휴지통\")\n",
    "            print(\"6. 연락처 검색\")\n",
    "            print(\"7. 즐겨찾기 등록\")\n",
    "            print(\"8. 즐겨찾기 보기\")\n",
    "            print(\"9. 정렬\")\n",
    "            print(\"0. 종료\")\n",
    "            menu = input(\"메뉴선택: \")\n",
    "\n",
    "            if menu == '0':\n",
    "                print(\"전화번호부를 사용해 주셔서 감사합니다.\")\n",
    "                break\n",
    "            elif menu == '1':\n",
    "                self.add_contact()\n",
    "            elif menu == '2':\n",
    "                self.print_all()\n",
    "            elif menu == '3':\n",
    "                self.modify_contact(self)\n",
    "            elif menu == '4':\n",
    "                self.rid_number()\n",
    "            elif menu == '5':\n",
    "                self.show_dust()\n",
    "            elif menu == '6':\n",
    "                self.search()\n",
    "            elif menu == '7':\n",
    "                self.add_favorite()\n",
    "            elif menu == '8':\n",
    "                self.show_favorites()\n",
    "            elif menu == '9':\n",
    "                self.sort_phone()\n",
    "            else:\n",
    "                print(\"올바른 메뉴 번호를 입력하세요.\")\n",
    "    @staticmethod \n",
    "    def page_move(method):\n",
    "        def select_menu(self):\n",
    "            print(\"<<< 이전 (0) / >>> 다음 (Enter)\")   \n",
    "            key = input('이전 화면은 0, 페이지 이동을 원하시면 아무 키나 입력해 주세요: ')\n",
    "            def access(key):\n",
    "                if key == \"0\":\n",
    "                    print('취소. 초기 메뉴로 돌아갑니다.')\n",
    "                    self.print_menu()\n",
    "                else:\n",
    "                    print('선택하신 페이지로 이동합니다.')\n",
    "                    method(self)\n",
    "            access(key)\n",
    "        return select_menu\n",
    "    @page_move #연락처 저장 함수:1\n",
    "    def set_contact(self):\n",
    "            global contact\n",
    "            name = input(\"성함:\")\n",
    "            phone_number = input(\"전화번호:\")\n",
    "            e_mail = input(\"이메일:\")\n",
    "            addr = input(\"주소:\")\n",
    "\n",
    "            data = {'이름': name, '정보': {'연락처': phone_number ,'메일': e_mail ,'주소' : addr}}\n",
    "            contact.append(data)\n",
    "            print('설정이 저장되었습니다. 메인 화면으로 돌아갑니다.')\n",
    "            print_menu()\n",
    "    @page_move #연락처 출력\n",
    "    def print_all(self):\n",
    "        while True:\n",
    "            for idx,all_p in ennumerate(self.contact,1):\n",
    "                print(f\"{idx}. 이름:{all_p['이름']}\")\n",
    "                print(f\"주소:{person['정보']['주소']}\")\n",
    "                print(f\"주소:{person['정보']['연락처']}\")\n",
    "                print(f\"주소:{person['정보']['메일']}\")\n",
    "            menu =input(\"메뉴선택:\")\n",
    "    @page_move\n",
    "    def modify_contact(self): #연락처 수정 메소드\n",
    "        search_name = input(\"수정할 연락처의 이름을 입력하세요: \")\n",
    "\n",
    "        # 이름을 기준으로 연락처 찾기\n",
    "        found_contacts = [person for person in self.contact if person['이름'] == search_name]\n",
    "\n",
    "        if found_contacts:\n",
    "            print(f\"{search_name}로 검색한 결과입니다.\")\n",
    "            for idx, found_person in enumerate(found_contacts, 1):\n",
    "                print(f\"{idx}. 연락처:{found_person['정보']['연락처']}\")\n",
    "\n",
    "            selected_index = int(input(\"수정할 연락처의 인덱스를 입력하세요: \")) - 1\n",
    "\n",
    "            if 0 <= selected_index < len(found_contacts):\n",
    "                selected_contact = found_contacts[selected_index]\n",
    "\n",
    "                # 수정할 정보 입력\n",
    "                new_phone_number = input(\"새로운 전화번호를 입력하세요: \")\n",
    "                new_email = input(\"새로운 이메일을 입력하세요: \")\n",
    "                new_address = input(\"새로운 주소를 입력하세요: \")\n",
    "\n",
    "                # 정보 수정\n",
    "                selected_contact['정보']['연락처'] = new_phone_number\n",
    "                selected_contact['정보']['메일'] = new_email\n",
    "                selected_contact['정보']['주소'] = new_address\n",
    "\n",
    "                print(\"연락처가 수정되었습니다.\")\n",
    "            else:\n",
    "                print(\"유효하지 않은 인덱스입니다.\")\n",
    "        else:\n",
    "            print(f\"{search_name}로 검색된 연락처가 없습니다.\")\n",
    "\n",
    "    @page_move #연락처 검색 함수 6\n",
    "    def search(self):  \n",
    "        search = input(\"이름으로 검색해 주세요:\")\n",
    "        for lst in self.contact:  # self를 통해 클래스 속성에 접근하도록 수정\n",
    "            if lst['이름'] == search:\n",
    "                infor = lst['정보']\n",
    "                print(f'{search}로 저장된 정보:{infor}')\n",
    "            else:\n",
    "                print(f\"{search}님은 존재하지 않습니다. 오타를 확인해 보세요\")\n",
    "\n",
    "    @page_move\n",
    "    def rid_number(self):\n",
    "        rid = input(\"삭제할 이름을 입력해 주세요:\")\n",
    "        temp_list=[]\n",
    "        for uid,person in enumerate(contact):\n",
    "            if person['이름']==rid:\n",
    "                temp_list.append(person)\n",
    "        if temp_list:\n",
    "            print(f\"{rid}로 검색한 결과입니다.\")\n",
    "            for idx, temp_person in enumerate(temp_list,1):\n",
    "                print(f\"{idx}. 연락처:{temp_person['정보']['연락처']}\")\n",
    "            real_rid= int(input(\"삭제할 연락처의 인덱스를 입력해 주세요:\")) -1\n",
    "            del_contact = temp_list.pop(real_rid)\n",
    "            contact.remove(del_contact)\n",
    "            dust_box.append(del_contact)\n",
    "            print(\"삭제되었습니다.\")\n",
    "        else:\n",
    "            print(\"연락처에 존재 하지 않는 이름입니다. 재 검색을 요청드립니다.\")\n",
    "        menu =input(\"메뉴선택:\")\n",
    "\n",
    "    @page_move        #정렬 메소드\n",
    "    def sort_phone(self):\n",
    "        print(\"이름 기준:n, 주소 기준:r, 역순 입력을 원할 때는 대문자\")\n",
    "        s = input('정렬 기준을 말씀해 주세요: ')\n",
    "        if s == \"n\":\n",
    "            self.contact = sorted(self.contact, key=lambda x: x['이름'])\n",
    "        elif s == \"N\":\n",
    "            self.contact = sorted(self.contact, key=lambda x: x['이름'], reverse=True)\n",
    "        elif s == \"r\":\n",
    "            self.contact = sorted(self.contact, key=lambda x: x['정보']['주소'])\n",
    "        elif s == \"R\":\n",
    "            self.contact = sorted(self.contact, key=lambda x: x['정보']['주소'], reverse=True)\n",
    "      \n",
    "    @page_move #휴지통 메소드\n",
    "    def dust(self):\n",
    "        print(\"휴지통으로 이동합니다.\")\n",
    "        for idx, dust_p in enumerate(self.dust_box, 1):\n",
    "            print(f\"{idx}. 연락처:{dust_p['이름']}-{dust_p['정보']['연락처']}\")\n",
    "        if self.dust_box:\n",
    "            selected_index = int(input(\"복원할 연락처의 인덱스 번호를 입력하세요: \"))\n",
    "            if selected_index != 0:\n",
    "                if 1 <= selected_index <= len(self.dust_box):\n",
    "                    restored_contact = self.dust_box.pop(selected_index - 1)  # 인덱스 조정\n",
    "                    self.contact.append(restored_contact)\n",
    "                    print(\"연락처가 복원되었습니다.\")\n",
    "                else:\n",
    "                    print(\"존재하지 않는 인덱스입니다.\")\n",
    "        else:\n",
    "            print(\"휴지통이 비어 있습니다.\")\n",
    "    @page_move\n",
    "    def favor(self):\n",
    "        rid = input(\"추가할 이름을 입력해 주세요:\")\n",
    "        temp1_list=[]\n",
    "        for uid,person in enumerate(contact):\n",
    "            if person['이름']==rid:\n",
    "                temp_list.append(person)\n",
    "        if temp_list:\n",
    "            print(f\"{rid}로 검색한 결과입니다.\")\n",
    "            for idx, temp_person in enumerate(temp_list,1):\n",
    "                print(f\"{idx}. 연락처:{temp_person['정보']['연락처']}\")\n",
    "            real_rid= int(input(\"추가할 연락처의 인덱스를 입력해 주세요:\")) -1\n",
    "            del_contact = temp_list.pop(real_rid)\n",
    "            contact.remove(del_contact)\n",
    "            favorites.append(del_contact)\n",
    "            print(\"추가되었습니다.\")\n",
    "        else:\n",
    "            print(\"연락처에 존재 하지 않는 이름입니다. 재 검색을 요청드립니다.\")\n",
    "        menu =input(\"메뉴선택:\")\n",
    "    @page_move #즐겨찾기 메소드\n",
    "    def dust(self):\n",
    "        print(\"즐겨찾기 목록 으로 이동합니다.\")\n",
    "        for idx, dust_p in enumerate(self.dust_box, 1):\n",
    "            print(f\"{idx}. 연락처:{dust_p['이름']}-{dust_p['정보']['연락처']}\")\n",
    "        if self.dust_box:\n",
    "            selected_index = int(input(\"즐겨찾기 해제할 연락처의 인덱스 번호를 입력하세요: \"))\n",
    "            if selected_index != 0:\n",
    "                if 1 <= selected_index <= len(self.dust_box):\n",
    "                    restored_contact = self.dust_box.pop(selected_index - 1)  # 인덱스 조정\n",
    "                    self.contact.append(restored_contact)\n",
    "                    print(\"연락처가 해제되었습니다.\")\n",
    "                else:\n",
    "                    print(\"존재하지 않는 인덱스입니다.\")\n",
    "        else:\n",
    "            print(\"즐겨찾기 항목이 비어 있습니다.\")"
   ]
  },
  {
   "cell_type": "code",
   "execution_count": 6,
   "id": "ef24ad24",
   "metadata": {},
   "outputs": [],
   "source": [
    "contact=[]\n",
    "dust_box=[]\n",
    "favorites=[]"
   ]
  },
  {
   "cell_type": "markdown",
   "id": "02784c28",
   "metadata": {},
   "source": [
    "## 클래스정렬 메소드"
   ]
  },
  {
   "cell_type": "code",
   "execution_count": 49,
   "id": "3ec2f84a",
   "metadata": {},
   "outputs": [],
   "source": [
    "def sort_phone():\n",
    "    global contact\n",
    "    print(\"이름 기준:n,주소 기준:r,역순 입력을 원할때는 대문자\")\n",
    "    input('정렬 기준을 말씀해 주세요: ')\n",
    "    if s == \"n\":\n",
    "        contact =sorted(contact,key =lambda x:x['이름'])\n",
    "    elif s == \"N\":\n",
    "        contact =sorted(contact,key =lambda x:x['이름'],reverse=True)\n",
    "    elif s == \"r\":\n",
    "        contact =sorted(contact,key =lambda x:x['정보']['주소'])\n",
    "    elif s == \"R\":\n",
    "        contact=sorted(contact,key =lambda x:x['정보']['주소'],reverse=True)"
   ]
  },
  {
   "cell_type": "markdown",
   "id": "092e0a1c",
   "metadata": {},
   "source": [
    "# 메인 인터페이스 "
   ]
  },
  {
   "cell_type": "code",
   "execution_count": 10,
   "id": "e77ba07d",
   "metadata": {},
   "outputs": [
    {
     "name": "stdout",
     "output_type": "stream",
     "text": [
      "===================================\n",
      "연락처 :  0 명\n",
      "===================================\n",
      "1. 연락처 입력\n",
      "2. 연락처 출력\n",
      "3. 연락처 수정\n",
      "4. 연락처 삭제\n",
      "5. 휴지통\n",
      "6. 연락처 검색\n",
      "7. 즐겨찾기 등록\n",
      "8. 즐겨찾기 보기\n",
      "9. 정렬\n",
      "0. 종료\n",
      "메뉴선택: 3\n",
      "기능구현 추가 예정!\n",
      "===================================\n",
      "연락처 :  0 명\n",
      "===================================\n",
      "1. 연락처 입력\n",
      "2. 연락처 출력\n",
      "3. 연락처 수정\n",
      "4. 연락처 삭제\n",
      "5. 휴지통\n",
      "6. 연락처 검색\n",
      "7. 즐겨찾기 등록\n",
      "8. 즐겨찾기 보기\n",
      "9. 정렬\n",
      "0. 종료\n",
      "메뉴선택: 0\n",
      "전화번호부를 사용해 주셔서 감사합니다.\n"
     ]
    },
    {
     "data": {
      "text/plain": [
       "'0'"
      ]
     },
     "execution_count": 10,
     "metadata": {},
     "output_type": "execute_result"
    }
   ],
   "source": [
    "def print_menu():\n",
    "    global contact\n",
    "    while  True:\n",
    "        print(\"=\"*35 )\n",
    "        print(\"연락처 : \" ,len(contact) ,\"명\")\n",
    "        print(\"=\"*35 )\n",
    "        print(\"1. 연락처 입력\")\n",
    "        print(\"2. 연락처 출력\")\n",
    "        print(\"3. 연락처 수정\")\n",
    "        print(\"4. 연락처 삭제\")\n",
    "        print(\"5. 휴지통\")\n",
    "        print(\"6. 연락처 검색\")\n",
    "        print(\"7. 즐겨찾기 등록\")\n",
    "        print(\"8. 즐겨찾기 보기\")\n",
    "        print(\"9. 정렬\")\n",
    "        print(\"0. 종료\")\n",
    "        menu = input(\"메뉴선택: \")\n",
    "        if menu == '0':\n",
    "            print(\"전화번호부를 사용해 주셔서 감사합니다.\")\n",
    "            break\n",
    "        elif menu == \"9\":\n",
    "            \n",
    "        else :\n",
    "            print(\"기능구현 추가 예정!\")\n",
    "    return str(menu)\n",
    "print_menu()"
   ]
  },
  {
   "cell_type": "markdown",
   "id": "0196b2c8",
   "metadata": {},
   "source": [
    "# 메뉴 이동 데코레이터"
   ]
  },
  {
   "cell_type": "code",
   "execution_count": 11,
   "id": "10998e81",
   "metadata": {
    "scrolled": false
   },
   "outputs": [
    {
     "name": "stdout",
     "output_type": "stream",
     "text": [
      "<<< 이전 (0) / >>> 다음 (Enter)\n",
      "이전 화면은 0, 페이지 이동을 원하시면 아무 키나 입력해 주세요: 3\n",
      "선택하신 페이지로 이동합니다.\n",
      "===================================\n",
      "연락처 :  0 명\n",
      "===================================\n",
      "1. 연락처 입력\n",
      "2. 연락처 출력\n",
      "3. 연락처 수정\n",
      "4. 연락처 삭제\n",
      "5. 휴지통\n",
      "6. 연락처 검색\n",
      "7. 즐겨찾기 등록\n",
      "8. 즐겨찾기 보기\n",
      "9. 정렬\n",
      "0. 종료\n",
      "메뉴선택: 2\n",
      "기능구현 추가 예정!\n",
      "===================================\n",
      "연락처 :  0 명\n",
      "===================================\n",
      "1. 연락처 입력\n",
      "2. 연락처 출력\n",
      "3. 연락처 수정\n",
      "4. 연락처 삭제\n",
      "5. 휴지통\n",
      "6. 연락처 검색\n",
      "7. 즐겨찾기 등록\n",
      "8. 즐겨찾기 보기\n",
      "9. 정렬\n",
      "0. 종료\n",
      "메뉴선택: 0\n",
      "전화번호부를 사용해 주셔서 감사합니다.\n"
     ]
    }
   ],
   "source": [
    "# 페이지 이동\n",
    "def page_move(method):\n",
    "    def select_menu():\n",
    "        print(\"<<< 이전 (0) / >>> 다음 (Enter)\")   \n",
    "        key = input('이전 화면은 0, 페이지 이동을 원하시면 아무 키나 입력해 주세요: ')\n",
    "        def access(key):\n",
    "            if key == \"0\":\n",
    "                print('취소. 초기 메뉴로 돌아갑니다.')\n",
    "                print_menu()\n",
    "            else:\n",
    "                print('선택하신 페이지로 이동합니다.')\n",
    "                method()\n",
    "        access(key)\n",
    "    return select_menu\n",
    "\n",
    "# page_move 함수에 print_menu 함수를 전달\n",
    "result_function = page_move(print_menu)\n",
    "result_function()\n"
   ]
  },
  {
   "cell_type": "markdown",
   "id": "346770eb",
   "metadata": {
    "scrolled": true
   },
   "source": [
    "# 전화 번호부 저장 함수"
   ]
  },
  {
   "cell_type": "code",
   "execution_count": 17,
   "id": "6af44139",
   "metadata": {
    "scrolled": true
   },
   "outputs": [
    {
     "name": "stdout",
     "output_type": "stream",
     "text": [
      "<<< 이전 (0) / >>> 다음 (Enter)\n",
      "이전 화면은 0, 페이지 이동을 원하시면 아무 키나 입력해 주세요: 3\n",
      "선택하신 페이지로 이동합니다.\n",
      "성함:신현욱\n",
      "전화번호:2131\n",
      "이메일:123123\n",
      "주소:123\n",
      "저장되었습니다. 메인 화면으로 돌아갑니다.\n",
      "===================================\n",
      "연락처 :  2 명\n",
      "===================================\n",
      "1. 연락처 입력\n",
      "2. 연락처 출력\n",
      "3. 연락처 수정\n",
      "4. 연락처 삭제\n",
      "5. 휴지통\n",
      "6. 연락처 검색\n",
      "7. 즐겨찾기 등록\n",
      "8. 즐겨찾기 보기\n",
      "9. 정렬\n",
      "0. 종료\n",
      "메뉴선택: 0\n",
      "전화번호부를 사용해 주셔서 감사합니다.\n"
     ]
    }
   ],
   "source": [
    "@page_move\n",
    "def set_contact():\n",
    "        global contact\n",
    "        name = input(\"성함:\")\n",
    "        phone_number = input(\"전화번호:\")\n",
    "        e_mail = input(\"이메일:\")\n",
    "        addr = input(\"주소:\")\n",
    "    \n",
    "        data = {'이름': name, '정보': {'연락처': phone_number ,'메일': e_mail ,'주소' : addr}}\n",
    "        contact.append(data)\n",
    "        print('저장되었습니다. 메인 화면으로 돌아갑니다.')\n",
    "        print_menu()\n",
    "\n",
    "\n",
    "set_contact()\n"
   ]
  },
  {
   "cell_type": "code",
   "execution_count": 18,
   "id": "a347bcd7",
   "metadata": {
    "scrolled": true
   },
   "outputs": [
    {
     "name": "stdout",
     "output_type": "stream",
     "text": [
      "<<< 이전 (0) / >>> 다음 (Enter)\n",
      "이전 화면은 0, 페이지 이동을 원하시면 아무 키나 입력해 주세요: 2\n",
      "선택하신 페이지로 이동합니다.\n",
      "이름으로 검색해 주세요:신현욱\n",
      "신현욱로 저장된 정보:{'연락처': '0109', '메일': '메일', '주소': '주소'}\n",
      "신현욱로 저장된 정보:{'연락처': '2131', '메일': '123123', '주소': '123'}\n"
     ]
    }
   ],
   "source": [
    "# 연락처 출력\n",
    "@page_move\n",
    "def print_all():\n",
    "    search = input(\"이름으로 검색해 주세요:\")\n",
    "    for lst in contact: #cotact 내부의 딕셔너리 들을 탐색하게 됩니다.\n",
    "        if lst['이름'] == search:\n",
    "            infor=lst['정보']\n",
    "            print(f'{search}로 저장된 정보:{infor}')\n",
    "        else :\n",
    "            print(f\"{search}님은 존재하지 않습니다. 오타를 확인해 보세요\")\n",
    "print_all()"
   ]
  },
  {
   "cell_type": "code",
   "execution_count": 19,
   "id": "7a6641d6",
   "metadata": {},
   "outputs": [
    {
     "data": {
      "text/plain": [
       "[{'이름': '신현욱', '정보': {'연락처': '0109', '메일': '메일', '주소': '주소'}},\n",
       " {'이름': '신현욱', '정보': {'연락처': '2131', '메일': '123123', '주소': '123'}}]"
      ]
     },
     "execution_count": 19,
     "metadata": {},
     "output_type": "execute_result"
    }
   ],
   "source": [
    "contact"
   ]
  },
  {
   "cell_type": "markdown",
   "id": "37d243c3",
   "metadata": {},
   "source": [
    "# 전화번호부 삭제 함수"
   ]
  },
  {
   "cell_type": "code",
   "execution_count": 46,
   "id": "40d8aa5d",
   "metadata": {},
   "outputs": [],
   "source": [
    "@page_move\n",
    "def rid_number():\n",
    "    rid = input(\"삭제할 이름을 입력해 주세요:\")\n",
    "    temp_list=[]\n",
    "    for uid,person in enumerate(contact):\n",
    "        if person['이름']==rid:\n",
    "            temp_list.append(person)\n",
    "    if temp_list:\n",
    "        print(f\"{rid}로 검색한 결과입니다.\")\n",
    "        for idx, temp_person in enumerate(temp_list,1):\n",
    "            print(f\"{idx}. 연락처:{temp_person['정보']['연락처']}\")\n",
    "        real_rid= int(input(\"삭제할 연락처의 인덱스를 입력해 주세요:\")) -1\n",
    "        del_contact = temp_list.pop(real_rid)\n",
    "        contact.remove(del_contact)\n",
    "        dust_box.append(del_contact)\n",
    "        print(\"삭제되었습니다.\")\n",
    "    else:\n",
    "        print(\"연락처에 존재 하지 않는 이름입니다. 재 검색을 요청드립니다.\")\n",
    "        "
   ]
  },
  {
   "cell_type": "code",
   "execution_count": 45,
   "id": "67bfb4d5",
   "metadata": {},
   "outputs": [
    {
     "data": {
      "text/plain": [
       "[{'이름': '신현욱', '정보': {'연락처': '0109', '메일': '메일', '주소': '주소'}},\n",
       " {'이름': '신현욱', '정보': {'연락처': '2131', '메일': '123123', '주소': '123'}}]"
      ]
     },
     "execution_count": 45,
     "metadata": {},
     "output_type": "execute_result"
    }
   ],
   "source": [
    "dust_box"
   ]
  },
  {
   "cell_type": "markdown",
   "id": "16d354d3",
   "metadata": {},
   "source": [
    "# 전화번호 저장 함수"
   ]
  },
  {
   "cell_type": "code",
   "execution_count": null,
   "id": "3facffb0",
   "metadata": {},
   "outputs": [],
   "source": [
    "dust_box=[{'이름': '신현욱', '정보': {'연락처': '0109', '메일': '메일', '주소': '주소'}},\n",
    " {'이름': '신현욱', '정보': {'연락처': '2131', '메일': '123123', '주소': '123'}}]\n",
    "def dust_show():\n",
    "    another_t =[]\n",
    "    for idx, dust_p in enumerate(dust_box,1):\n",
    "        print(f\"{idx}. 연락처:{dust_p['이름']}-{dust_p['정보']['연락처']}\")\n",
    "    input(\"복원을 원하시는 인덱스 번호를 입력해 주세요\")"
   ]
  }
 ],
 "metadata": {
  "kernelspec": {
   "display_name": "Python 3 (ipykernel)",
   "language": "python",
   "name": "python3"
  },
  "language_info": {
   "codemirror_mode": {
    "name": "ipython",
    "version": 3
   },
   "file_extension": ".py",
   "mimetype": "text/x-python",
   "name": "python",
   "nbconvert_exporter": "python",
   "pygments_lexer": "ipython3",
   "version": "3.11.5"
  }
 },
 "nbformat": 4,
 "nbformat_minor": 5
}
